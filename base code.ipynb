{
 "cells": [
  {
   "cell_type": "code",
   "execution_count": 2,
   "id": "31cf611a",
   "metadata": {},
   "outputs": [],
   "source": [
    "#imporitng the required libraries\n",
    "import pathlib\n",
    "import os\n",
    "import matplotlib.pyplot as plt\n",
    "import cv2\n",
    "import numpy as np\n",
    "import glob\n",
    "from tqdm import tqdm\n",
    "import tensorflow as tf\n",
    "from tensorflow.keras.models import Sequential\n",
    "from tensorflow.keras.applications import VGG19\n",
    "from tensorflow.keras import layers\n",
    "from tensorflow.keras.models import load_model\n",
    "from tensorflow.keras.utils import to_categorical\n",
    "from tensorflow.keras.models import load_model\n",
    "from tensorflow.keras.models import clone_model\n",
    "from tensorflow.keras.models import Sequential\n",
    "from tensorflow.keras.layers import Dense\n",
    "from matplotlib import pyplot\n",
    "from numpy import average\n",
    "from numpy import array"
   ]
  },
  {
   "cell_type": "code",
   "execution_count": 3,
   "id": "03d7cedf",
   "metadata": {},
   "outputs": [],
   "source": [
    "covid_images = glob.glob('.\\\\curated dataset\\\\covid\\\\*')"
   ]
  },
  {
   "cell_type": "code",
   "execution_count": 4,
   "id": "0f754c17",
   "metadata": {},
   "outputs": [
    {
     "data": {
      "text/plain": [
       "597"
      ]
     },
     "execution_count": 4,
     "metadata": {},
     "output_type": "execute_result"
    }
   ],
   "source": [
    "len(covid_images)"
   ]
  },
  {
   "cell_type": "code",
   "execution_count": 5,
   "id": "b77b231a",
   "metadata": {},
   "outputs": [],
   "source": [
    "normal_images = glob.glob('.\\\\curated dataset\\\\normal\\\\*')"
   ]
  },
  {
   "cell_type": "code",
   "execution_count": 6,
   "id": "ee2de46c",
   "metadata": {},
   "outputs": [
    {
     "data": {
      "text/plain": [
       "616"
      ]
     },
     "execution_count": 6,
     "metadata": {},
     "output_type": "execute_result"
    }
   ],
   "source": [
    "len(normal_images)"
   ]
  },
  {
   "cell_type": "code",
   "execution_count": 7,
   "id": "0b687e22",
   "metadata": {},
   "outputs": [],
   "source": [
    "pneumonia_images = glob.glob('.\\\\curated dataset\\\\pneumonia\\\\*')"
   ]
  },
  {
   "cell_type": "code",
   "execution_count": 8,
   "id": "e5db4806",
   "metadata": {},
   "outputs": [
    {
     "data": {
      "text/plain": [
       "616"
      ]
     },
     "execution_count": 8,
     "metadata": {},
     "output_type": "execute_result"
    }
   ],
   "source": [
    "len(pneumonia_images)"
   ]
  },
  {
   "cell_type": "code",
   "execution_count": 9,
   "id": "4c464eb6",
   "metadata": {},
   "outputs": [],
   "source": [
    "normal = []\n",
    "for i in normal_images:\n",
    "    path = i\n",
    "    normal.append(path)"
   ]
  },
  {
   "cell_type": "code",
   "execution_count": 10,
   "id": "309abf50",
   "metadata": {},
   "outputs": [],
   "source": [
    "pneumonia = []\n",
    "for i in pneumonia_images:\n",
    "    path = i\n",
    "    pneumonia.append(path)"
   ]
  },
  {
   "cell_type": "code",
   "execution_count": 11,
   "id": "435756bc",
   "metadata": {},
   "outputs": [],
   "source": [
    "covid = []\n",
    "for i in covid_images:\n",
    "    path = i\n",
    "    covid.append(path)"
   ]
  },
  {
   "cell_type": "code",
   "execution_count": 12,
   "id": "c7a87919",
   "metadata": {},
   "outputs": [],
   "source": [
    "all_images=[]"
   ]
  },
  {
   "cell_type": "code",
   "execution_count": 13,
   "id": "bb2e3b76",
   "metadata": {},
   "outputs": [],
   "source": [
    "all_images.extend(normal)\n",
    "all_images.extend(pneumonia)\n",
    "all_images.extend(covid)"
   ]
  },
  {
   "cell_type": "code",
   "execution_count": 14,
   "id": "f889002f",
   "metadata": {},
   "outputs": [
    {
     "data": {
      "text/plain": [
       "1829"
      ]
     },
     "execution_count": 14,
     "metadata": {},
     "output_type": "execute_result"
    }
   ],
   "source": [
    "len(all_images)"
   ]
  },
  {
   "cell_type": "code",
   "execution_count": 15,
   "id": "e09be629",
   "metadata": {},
   "outputs": [
    {
     "data": {
      "text/plain": [
       "['.', 'curated dataset', 'normal', 'IM-0115-0001.jpeg']"
      ]
     },
     "execution_count": 15,
     "metadata": {},
     "output_type": "execute_result"
    }
   ],
   "source": [
    "all_images[0].split('\\\\')"
   ]
  },
  {
   "cell_type": "code",
   "execution_count": 16,
   "id": "11cfdd05",
   "metadata": {},
   "outputs": [
    {
     "name": "stderr",
     "output_type": "stream",
     "text": [
      "100%|██████████████████████████████████████████████████████████████████████████████| 1829/1829 [00:32<00:00, 55.51it/s]\n"
     ]
    }
   ],
   "source": [
    "# Define  labels[], and data[]\n",
    "labels = []  \n",
    "data = []\n",
    "from tqdm import tqdm\n",
    "\n",
    "for i in tqdm(range(len(all_images))):\n",
    "    image= cv2.imread(all_images[i])  #reading the image\n",
    "    image=cv2.resize(image, (224,224)) #resizing\n",
    "    image=np.array(image)  #converting into numpy array\n",
    "    image = image/255  #scaling image\n",
    "    data.append(image)\n",
    "    cls = all_images[i].split('\\\\')[-2] #splitting  path\n",
    "    if cls == 'pneumonia':\n",
    "        lbl = 0\n",
    "    elif cls=='normal' :\n",
    "        lbl=1\n",
    "    else:\n",
    "        lbl=2\n",
    "    labels.append(lbl)"
   ]
  },
  {
   "cell_type": "code",
   "execution_count": 17,
   "id": "fdf23432",
   "metadata": {},
   "outputs": [
    {
     "name": "stdout",
     "output_type": "stream",
     "text": [
      "(1829,)\n",
      "(1829, 224, 224, 3)\n"
     ]
    }
   ],
   "source": [
    "labels=np.array(labels)\n",
    "data=np.array(data)\n",
    "print(labels.shape)\n",
    "print(data.shape)"
   ]
  },
  {
   "cell_type": "code",
   "execution_count": 18,
   "id": "c50c233f",
   "metadata": {},
   "outputs": [],
   "source": [
    "from sklearn.model_selection import train_test_split,KFold"
   ]
  },
  {
   "cell_type": "code",
   "execution_count": 19,
   "id": "d47b30bd",
   "metadata": {},
   "outputs": [],
   "source": [
    "x_train , x_test ,y_train ,y_test = train_test_split(data,labels,test_size=0.2)"
   ]
  },
  {
   "cell_type": "code",
   "execution_count": 20,
   "id": "070b6256",
   "metadata": {},
   "outputs": [],
   "source": [
    "x_train , x_val ,y_train ,y_val = train_test_split(data,labels,test_size=0.2)"
   ]
  },
  {
   "cell_type": "code",
   "execution_count": 21,
   "id": "1294197f",
   "metadata": {},
   "outputs": [
    {
     "name": "stdout",
     "output_type": "stream",
     "text": [
      "(1463, 224, 224, 3) (1463,)\n",
      "(366, 224, 224, 3) (366,)\n",
      "(366, 224, 224, 3) (366,)\n"
     ]
    }
   ],
   "source": [
    "print(x_train.shape,y_train.shape)\n",
    "print(x_test.shape,y_test.shape)\n",
    "print(x_val.shape,y_val.shape)"
   ]
  },
  {
   "cell_type": "code",
   "execution_count": 22,
   "id": "7248b716",
   "metadata": {},
   "outputs": [],
   "source": [
    "#applying data augumentation using ImageGenerator library provided in keras.preprocessing on training data\n",
    "data_generator_train = tf.keras.preprocessing.image.ImageDataGenerator( rotation_range=15, width_shift_range=0.1,\n",
    "    height_shift_range=0.1, shear_range=0.1, zoom_range=0.1,horizontal_flip=True,fill_mode='nearest')"
   ]
  },
  {
   "cell_type": "code",
   "execution_count": 23,
   "id": "925a10a9",
   "metadata": {},
   "outputs": [],
   "source": [
    "y_train = tf.keras.utils.to_categorical(y_train,3)\n",
    "y_test = tf.keras.utils.to_categorical(y_test,3)\n",
    "y_val=tf.keras.utils.to_categorical(y_val,3)"
   ]
  },
  {
   "cell_type": "code",
   "execution_count": 24,
   "id": "00bbf233",
   "metadata": {},
   "outputs": [],
   "source": [
    "data_generator_train.fit(x_train)"
   ]
  },
  {
   "cell_type": "code",
   "execution_count": 25,
   "id": "6e6f7dbd",
   "metadata": {},
   "outputs": [],
   "source": [
    "resnet50v2 = tf.keras.applications.ResNet50V2(\n",
    "    include_top=False,\n",
    "    weights=\"imagenet\",\n",
    "    input_shape=(224,224,3),\n",
    "    pooling='avg',\n",
    "    classifier_activation=\"softmax\",\n",
    ")"
   ]
  },
  {
   "cell_type": "code",
   "execution_count": 26,
   "id": "5534d365",
   "metadata": {},
   "outputs": [],
   "source": [
    "model1 = Sequential()\n",
    "model1.add(resnet50v2)\n",
    "model1.add(layers.Flatten())\n",
    "model1.add(layers.Dense(256, activation='relu'))\n",
    "model1.add(layers.Dense(3, activation='softmax'))"
   ]
  },
  {
   "cell_type": "code",
   "execution_count": 27,
   "id": "064ec21c",
   "metadata": {},
   "outputs": [
    {
     "name": "stdout",
     "output_type": "stream",
     "text": [
      "Model: \"sequential\"\n",
      "_________________________________________________________________\n",
      "Layer (type)                 Output Shape              Param #   \n",
      "=================================================================\n",
      "resnet50v2 (Functional)      (None, 2048)              23564800  \n",
      "_________________________________________________________________\n",
      "flatten (Flatten)            (None, 2048)              0         \n",
      "_________________________________________________________________\n",
      "dense (Dense)                (None, 256)               524544    \n",
      "_________________________________________________________________\n",
      "dense_1 (Dense)              (None, 3)                 771       \n",
      "=================================================================\n",
      "Total params: 24,090,115\n",
      "Trainable params: 24,044,675\n",
      "Non-trainable params: 45,440\n",
      "_________________________________________________________________\n"
     ]
    }
   ],
   "source": [
    "#summary of the model\n",
    "model1.summary()"
   ]
  },
  {
   "cell_type": "code",
   "execution_count": 28,
   "id": "8302cb8f",
   "metadata": {},
   "outputs": [],
   "source": [
    "model1.compile(optimizer=tf.keras.optimizers.Adam(learning_rate=0.001),\n",
    "              loss=tf.keras.losses.CategoricalCrossentropy(),metrics=['accuracy'])"
   ]
  },
  {
   "cell_type": "code",
   "execution_count": 29,
   "id": "b16a8e09",
   "metadata": {},
   "outputs": [
    {
     "name": "stdout",
     "output_type": "stream",
     "text": [
      "Epoch 1/50\n",
      "183/183 [==============================] - 38s 169ms/step - loss: 0.6104 - accuracy: 0.7847 - val_loss: 18.7367 - val_accuracy: 0.5956\n",
      "Epoch 2/50\n",
      "183/183 [==============================] - 26s 144ms/step - loss: 0.3731 - accuracy: 0.8619 - val_loss: 3.0683 - val_accuracy: 0.5710\n",
      "Epoch 3/50\n",
      "183/183 [==============================] - 26s 144ms/step - loss: 0.3376 - accuracy: 0.8811 - val_loss: 10.2759 - val_accuracy: 0.3716\n",
      "Epoch 4/50\n",
      "183/183 [==============================] - 26s 144ms/step - loss: 0.2949 - accuracy: 0.8886 - val_loss: 2.2619 - val_accuracy: 0.4372\n",
      "Epoch 5/50\n",
      "183/183 [==============================] - 26s 145ms/step - loss: 0.2741 - accuracy: 0.9023 - val_loss: 0.4968 - val_accuracy: 0.8798\n",
      "Epoch 6/50\n",
      "183/183 [==============================] - 27s 145ms/step - loss: 0.2383 - accuracy: 0.9187 - val_loss: 0.4211 - val_accuracy: 0.8415\n",
      "Epoch 7/50\n",
      "183/183 [==============================] - 27s 145ms/step - loss: 0.2186 - accuracy: 0.9152 - val_loss: 0.6808 - val_accuracy: 0.6885\n",
      "Epoch 8/50\n",
      "183/183 [==============================] - 27s 145ms/step - loss: 0.2101 - accuracy: 0.9241 - val_loss: 1.5657 - val_accuracy: 0.6393\n",
      "Epoch 9/50\n",
      "183/183 [==============================] - 27s 145ms/step - loss: 0.1948 - accuracy: 0.9337 - val_loss: 0.5520 - val_accuracy: 0.8169\n",
      "Epoch 10/50\n",
      "183/183 [==============================] - 27s 145ms/step - loss: 0.2132 - accuracy: 0.9269 - val_loss: 0.2724 - val_accuracy: 0.9208\n",
      "Epoch 11/50\n",
      "183/183 [==============================] - 27s 145ms/step - loss: 0.1796 - accuracy: 0.9398 - val_loss: 0.6826 - val_accuracy: 0.7896\n",
      "Epoch 12/50\n",
      "183/183 [==============================] - 27s 145ms/step - loss: 0.2182 - accuracy: 0.9180 - val_loss: 0.1715 - val_accuracy: 0.9508\n",
      "Epoch 13/50\n",
      "183/183 [==============================] - 27s 145ms/step - loss: 0.1763 - accuracy: 0.9405 - val_loss: 0.7466 - val_accuracy: 0.7760\n",
      "Epoch 14/50\n",
      "183/183 [==============================] - 27s 145ms/step - loss: 0.1286 - accuracy: 0.9549 - val_loss: 0.7835 - val_accuracy: 0.7568\n",
      "Epoch 15/50\n",
      "183/183 [==============================] - 27s 145ms/step - loss: 0.1541 - accuracy: 0.9494 - val_loss: 0.1622 - val_accuracy: 0.9344\n",
      "Epoch 16/50\n",
      "183/183 [==============================] - 27s 145ms/step - loss: 0.1627 - accuracy: 0.9419 - val_loss: 0.2841 - val_accuracy: 0.9180\n",
      "Epoch 17/50\n",
      "183/183 [==============================] - 27s 145ms/step - loss: 0.1526 - accuracy: 0.9501 - val_loss: 0.2132 - val_accuracy: 0.9153\n",
      "Epoch 18/50\n",
      "183/183 [==============================] - 27s 145ms/step - loss: 0.1404 - accuracy: 0.9494 - val_loss: 0.2000 - val_accuracy: 0.9481\n",
      "Epoch 19/50\n",
      "183/183 [==============================] - 27s 145ms/step - loss: 0.1670 - accuracy: 0.9487 - val_loss: 2.9739 - val_accuracy: 0.6066\n",
      "Epoch 20/50\n",
      "183/183 [==============================] - 27s 145ms/step - loss: 0.1698 - accuracy: 0.9371 - val_loss: 0.6476 - val_accuracy: 0.7486\n",
      "Epoch 21/50\n",
      "183/183 [==============================] - 27s 145ms/step - loss: 0.1445 - accuracy: 0.9535 - val_loss: 0.6296 - val_accuracy: 0.7650\n",
      "Epoch 22/50\n",
      "183/183 [==============================] - 27s 145ms/step - loss: 0.1357 - accuracy: 0.9522 - val_loss: 0.3728 - val_accuracy: 0.8607\n",
      "Epoch 23/50\n",
      "183/183 [==============================] - 27s 145ms/step - loss: 0.1334 - accuracy: 0.9528 - val_loss: 0.1467 - val_accuracy: 0.9590\n",
      "Epoch 24/50\n",
      "183/183 [==============================] - 27s 145ms/step - loss: 0.1307 - accuracy: 0.9528 - val_loss: 0.3438 - val_accuracy: 0.8361\n",
      "Epoch 25/50\n",
      "183/183 [==============================] - 27s 145ms/step - loss: 0.1291 - accuracy: 0.9569 - val_loss: 0.7786 - val_accuracy: 0.7377\n",
      "Epoch 26/50\n",
      "183/183 [==============================] - 27s 145ms/step - loss: 0.1262 - accuracy: 0.9624 - val_loss: 0.1271 - val_accuracy: 0.9590\n",
      "Epoch 27/50\n",
      "183/183 [==============================] - 27s 145ms/step - loss: 0.1410 - accuracy: 0.9508 - val_loss: 2.0422 - val_accuracy: 0.4180\n",
      "Epoch 28/50\n",
      "183/183 [==============================] - 27s 145ms/step - loss: 0.1238 - accuracy: 0.9528 - val_loss: 0.1947 - val_accuracy: 0.9344\n",
      "Epoch 29/50\n",
      "183/183 [==============================] - 27s 145ms/step - loss: 0.1028 - accuracy: 0.9672 - val_loss: 0.2877 - val_accuracy: 0.8934\n",
      "Epoch 30/50\n",
      "183/183 [==============================] - 27s 145ms/step - loss: 0.1097 - accuracy: 0.9679 - val_loss: 0.1807 - val_accuracy: 0.9372\n",
      "Epoch 31/50\n",
      "183/183 [==============================] - 27s 145ms/step - loss: 0.1426 - accuracy: 0.9508 - val_loss: 0.6156 - val_accuracy: 0.7896\n",
      "Epoch 32/50\n",
      "183/183 [==============================] - 27s 145ms/step - loss: 0.1157 - accuracy: 0.9610 - val_loss: 0.1317 - val_accuracy: 0.9699\n",
      "Epoch 33/50\n",
      "183/183 [==============================] - 27s 146ms/step - loss: 0.1046 - accuracy: 0.9679 - val_loss: 0.1868 - val_accuracy: 0.9481\n",
      "Epoch 34/50\n",
      "183/183 [==============================] - 27s 146ms/step - loss: 0.1249 - accuracy: 0.9569 - val_loss: 0.3538 - val_accuracy: 0.9016\n",
      "Epoch 35/50\n",
      "183/183 [==============================] - 27s 146ms/step - loss: 0.0980 - accuracy: 0.9686 - val_loss: 0.0868 - val_accuracy: 0.9699\n",
      "Epoch 36/50\n",
      "183/183 [==============================] - 27s 146ms/step - loss: 0.1148 - accuracy: 0.9576 - val_loss: 0.4118 - val_accuracy: 0.9153\n",
      "Epoch 37/50\n",
      "183/183 [==============================] - 27s 145ms/step - loss: 0.1308 - accuracy: 0.9610 - val_loss: 0.2835 - val_accuracy: 0.9126\n",
      "Epoch 38/50\n",
      "183/183 [==============================] - 27s 145ms/step - loss: 0.0969 - accuracy: 0.9638 - val_loss: 0.1872 - val_accuracy: 0.9262\n",
      "Epoch 39/50\n",
      "183/183 [==============================] - 27s 145ms/step - loss: 0.1097 - accuracy: 0.9645 - val_loss: 0.4255 - val_accuracy: 0.8443\n",
      "Epoch 40/50\n",
      "183/183 [==============================] - 27s 145ms/step - loss: 0.0912 - accuracy: 0.9645 - val_loss: 0.0904 - val_accuracy: 0.9727\n",
      "Epoch 41/50\n",
      "183/183 [==============================] - 27s 145ms/step - loss: 0.0916 - accuracy: 0.9713 - val_loss: 3.1731 - val_accuracy: 0.5246\n",
      "Epoch 42/50\n",
      "183/183 [==============================] - 27s 145ms/step - loss: 0.0863 - accuracy: 0.9686 - val_loss: 0.1053 - val_accuracy: 0.9699\n",
      "Epoch 43/50\n",
      "183/183 [==============================] - 27s 145ms/step - loss: 0.0973 - accuracy: 0.9679 - val_loss: 0.1564 - val_accuracy: 0.9536\n",
      "Epoch 44/50\n",
      "183/183 [==============================] - 27s 145ms/step - loss: 0.0834 - accuracy: 0.9692 - val_loss: 1.5448 - val_accuracy: 0.5656\n",
      "Epoch 45/50\n",
      "183/183 [==============================] - 27s 145ms/step - loss: 0.1025 - accuracy: 0.9624 - val_loss: 0.9463 - val_accuracy: 0.7787\n",
      "Epoch 46/50\n",
      "183/183 [==============================] - 27s 145ms/step - loss: 0.0700 - accuracy: 0.9747 - val_loss: 0.2190 - val_accuracy: 0.9180\n",
      "Epoch 47/50\n",
      "183/183 [==============================] - 27s 145ms/step - loss: 0.0900 - accuracy: 0.9665 - val_loss: 0.9851 - val_accuracy: 0.6366\n",
      "Epoch 48/50\n",
      "183/183 [==============================] - 27s 145ms/step - loss: 0.1144 - accuracy: 0.9590 - val_loss: 19.1117 - val_accuracy: 0.3825\n",
      "Epoch 49/50\n",
      "183/183 [==============================] - 27s 145ms/step - loss: 0.0932 - accuracy: 0.9699 - val_loss: 0.1283 - val_accuracy: 0.9727\n",
      "Epoch 50/50\n",
      "183/183 [==============================] - 27s 145ms/step - loss: 0.0935 - accuracy: 0.9665 - val_loss: 0.2078 - val_accuracy: 0.9399\n"
     ]
    }
   ],
   "source": [
    "history1 = model1.fit(data_generator_train.flow(x_train,y_train , batch_size=8),validation_data=(x_val,y_val),epochs=50)"
   ]
  },
  {
   "cell_type": "code",
   "execution_count": 31,
   "id": "40b7af38",
   "metadata": {},
   "outputs": [
    {
     "data": {
      "image/png": "[encoded data removed]",
      "text/plain": [
       "<Figure size 864x432 with 2 Axes>"
      ]
     },
     "metadata": {
      "needs_background": "light"
     },
     "output_type": "display_data"
    }
   ],
   "source": [
    "acc = history1.history['accuracy']\n",
    "val_acc = history1.history['val_accuracy']\n",
    "loss=history1.history['loss']\n",
    "val_loss=history1.history['val_loss']\n",
    "epochs_range = range(50)\n",
    "plt.figure(figsize=(12, 6))\n",
    "plt.subplot(1, 2, 1)\n",
    "plt.plot(epochs_range, acc, label='Training Accuracy')\n",
    "plt.plot(epochs_range, val_acc, label='Validation Accuracy')\n",
    "plt.legend(loc='lower right')\n",
    "plt.title('Training and Validation Accuracy')\n",
    "plt.subplot(1, 2, 2)\n",
    "plt.plot(epochs_range, loss, label='Training Loss')\n",
    "plt.plot(epochs_range, val_loss, label='Validation Loss')\n",
    "plt.legend(loc='upper right')\n",
    "plt.title('Training and Validation Loss')\n",
    "plt.show()"
   ]
  },
  {
   "cell_type": "code",
   "execution_count": 32,
   "id": "c1ab0835",
   "metadata": {},
   "outputs": [
    {
     "name": "stderr",
     "output_type": "stream",
     "text": [
      "D:\\anaconda\\envs\\mygpu\\lib\\site-packages\\tensorflow\\python\\keras\\utils\\generic_utils.py:497: CustomMaskWarning: Custom mask layers require a config and must override get_config. When loading, the custom mask layer must be passed to the custom_objects argument.\n",
      "  category=CustomMaskWarning)\n"
     ]
    }
   ],
   "source": [
    "model1.save('./base_model.h5')"
   ]
  },
  {
   "cell_type": "code",
   "execution_count": 33,
   "id": "029b8a74",
   "metadata": {},
   "outputs": [
    {
     "name": "stdout",
     "output_type": "stream",
     "text": [
      "12/12 [==============================] - 1s 115ms/step - loss: 0.1386 - accuracy: 0.9426\n"
     ]
    }
   ],
   "source": [
    "score, accuracy = model1.evaluate(x_test,y_test)"
   ]
  },
  {
   "cell_type": "code",
   "execution_count": 34,
   "id": "6b647d77",
   "metadata": {},
   "outputs": [
    {
     "name": "stdout",
     "output_type": "stream",
     "text": [
      "Testing Accuracy is :  0.9426229596138\n"
     ]
    }
   ],
   "source": [
    "print(\"Testing Accuracy is : \", accuracy)"
   ]
  },
  {
   "cell_type": "code",
   "execution_count": 35,
   "id": "f136d93e",
   "metadata": {},
   "outputs": [],
   "source": [
    "y_pred = model1.predict(x_test)"
   ]
  },
  {
   "cell_type": "code",
   "execution_count": 36,
   "id": "c8dc15fd",
   "metadata": {},
   "outputs": [],
   "source": [
    "y_test = np.argmax(y_test,axis=1)\n",
    "y_pred = np.argmax(y_pred,axis=1)"
   ]
  },
  {
   "cell_type": "code",
   "execution_count": 39,
   "id": "303c63ab",
   "metadata": {},
   "outputs": [],
   "source": [
    "from sklearn.metrics import classification_report,confusion_matrix"
   ]
  },
  {
   "cell_type": "code",
   "execution_count": 38,
   "id": "c32f5ca6",
   "metadata": {},
   "outputs": [
    {
     "name": "stdout",
     "output_type": "stream",
     "text": [
      "              precision    recall  f1-score   support\n",
      "\n",
      "   Pneumonia       0.88      0.96      0.92       127\n",
      "      Normal       0.98      0.87      0.92       120\n",
      "       Covid       0.98      1.00      0.99       119\n",
      "\n",
      "    accuracy                           0.94       366\n",
      "   macro avg       0.95      0.94      0.94       366\n",
      "weighted avg       0.95      0.94      0.94       366\n",
      "\n"
     ]
    }
   ],
   "source": [
    "print(classification_report(y_test,y_pred,target_names=['Pneumonia', 'Normal', 'Covid']))"
   ]
  },
  {
   "cell_type": "code",
   "execution_count": 40,
   "id": "43e18dae",
   "metadata": {},
   "outputs": [
    {
     "data": {
      "image/png": "[encoded data removed]",
      "text/plain": [
       "<Figure size 540x540 with 1 Axes>"
      ]
     },
     "metadata": {
      "needs_background": "light"
     },
     "output_type": "display_data"
    }
   ],
   "source": [
    "conf_matrix = confusion_matrix(y_true=y_test, y_pred=y_pred)\n",
    "#\n",
    "# Print the confusion matrix using Matplotlib\n",
    "#\n",
    "fig, ax = plt.subplots(figsize=(7.5, 7.5))\n",
    "ax.matshow(conf_matrix, cmap=plt.cm.Blues, alpha=0.3)\n",
    "for i in range(conf_matrix.shape[0]):\n",
    "    for j in range(conf_matrix.shape[1]):\n",
    "        ax.text(x=j, y=i,s=conf_matrix[i, j], va='center', ha='center', size='xx-large')\n",
    " \n",
    "plt.xlabel('Predictions', fontsize=18)\n",
    "plt.ylabel('Actuals', fontsize=18)\n",
    "plt.title('Confusion Matrix', fontsize=18)\n",
    "plt.show()"
   ]
  },
  {
   "cell_type": "code",
   "execution_count": null,
   "id": "305c9bc1",
   "metadata": {},
   "outputs": [],
   "source": []
  }
 ],
 "metadata": {
  "kernelspec": {
   "display_name": "Python 3",
   "language": "python",
   "name": "python3"
  },
  "language_info": {
   "codemirror_mode": {
    "name": "ipython",
    "version": 3
   },
   "file_extension": ".py",
   "mimetype": "text/x-python",
   "name": "python",
   "nbconvert_exporter": "python",
   "pygments_lexer": "ipython3",
   "version": "3.8.8"
  }
 },
 "nbformat": 4,
 "nbformat_minor": 5
}
